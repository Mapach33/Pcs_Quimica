{
  "nbformat": 4,
  "nbformat_minor": 0,
  "metadata": {
    "colab": {
      "provenance": [],
      "authorship_tag": "ABX9TyNxmZY62GbWHiRGzSwpixNK",
      "include_colab_link": true
    },
    "kernelspec": {
      "name": "python3",
      "display_name": "Python 3"
    },
    "language_info": {
      "name": "python"
    }
  },
  "cells": [
    {
      "cell_type": "markdown",
      "metadata": {
        "id": "view-in-github",
        "colab_type": "text"
      },
      "source": [
        "<a href=\"https://colab.research.google.com/github/Mapach33/Pcs_Quimica/blob/main/Liquidos_Soluciones.ipynb\" target=\"_parent\"><img src=\"https://colab.research.google.com/assets/colab-badge.svg\" alt=\"Open In Colab\"/></a>"
      ]
    },
    {
      "cell_type": "markdown",
      "source": [
        "\n",
        "\n",
        "# Fuerzas intermoleculares\n",
        "\n",
        "\n",
        "###1.1 Proponga un ejemplo para cada tipo de fuerzas intermoleculares."
      ],
      "metadata": {
        "id": "gqPJcCV-EsAY"
      }
    },
    {
      "cell_type": "markdown",
      "source": [
        "a) Interaccion Dipolo Dipolo:\n",
        "En el bromuro de hidrógeno (HBr), el bromo es más electronegativo que el hidrógeno, lo que da como resultado un dipolo-dipolo\n"
      ],
      "metadata": {
        "id": "CNF1NVQzFzhW"
      }
    },
    {
      "cell_type": "markdown",
      "source": [
        "b) Interaccion Dipolo Dipolo inducido: En el tetracloruro de carbono (CCl4), las moléculas son inicialmente no polares sin embargo cuando se acercan inducen un dipolo-dipolo"
      ],
      "metadata": {
        "id": "5u3uhSX7GSnq"
      }
    },
    {
      "cell_type": "markdown",
      "source": [
        "c) Interaccion Dipolo-ion: Cuando el cloruro de sodio (NaCl) se disuelve en agua, los iones de sodio (Na⁺) y cloruro (Cl⁻) son atraídos por las moléculas de agua debido a sus cargas eléctricas. Estas interacciones entre iones y moléculas de agua son ejemplos de fuerzas ion-dipolo."
      ],
      "metadata": {
        "id": "1lvW1GT-GeQj"
      }
    },
    {
      "cell_type": "markdown",
      "source": [
        "d) Fuerzas de dispersion: Un ejemplo son las moléculas de nitrógeno (N2) que generan una fuerza de disperion o fuerza london."
      ],
      "metadata": {
        "id": "nzuXR4UjGkrE"
      }
    },
    {
      "cell_type": "markdown",
      "source": [
        "Fuerzas de Van der Waals: Un ejemplo es el etano (C2H6), donde las moléculas interactúan a través de fuerzas de Van der Waals."
      ],
      "metadata": {
        "id": "szPw7diUGqc1"
      }
    },
    {
      "cell_type": "markdown",
      "source": [
        "###11.3 Explica la diferencia entre un momento dipolar permamente y un momento dipolar temporal."
      ],
      "metadata": {
        "id": "kbr5-8FVHk9E"
      }
    },
    {
      "cell_type": "markdown",
      "source": [
        "La diferencia entre un momento dipolar permanente y un momento dipolar temporal radica en su naturaleza y duración. Un momento dipolar permanente es una característica constante en ciertas moléculas debido a diferencias en electronegatividad, mientras que un momento dipolar temporal es una fluctuación aleatoria y transitoria en moléculas no polares, que da lugar a fuerzas de dispersión débiles, como las fuerzas de London."
      ],
      "metadata": {
        "id": "7oXe-KKPH-Ah"
      }
    },
    {
      "cell_type": "markdown",
      "source": [
        "###11.2 Explique el término \"polarizabilidad\". ¿Qué clase de moléculas tienden a ser muy polarizables? ¿Qué relación existe entre la polarizabilidad y las fuerzas intermoleculares?"
      ],
      "metadata": {
        "id": "fbn_stQeJyEp"
      }
    },
    {
      "cell_type": "markdown",
      "source": [
        "La polarizabilidad se refiere a la habilidad de una molécula para ajustar la distribución de sus electrones en reacción a un campo eléctrico. En este sentido, las moléculas más polarizables son las que tienen un mayor tamaño y contienen una cantidad significativa de electrones, lo que a su vez amplifica la fuerza de las fuerzas de dispersión entre moléculas."
      ],
      "metadata": {
        "id": "cqDMytgpKA5q"
      }
    },
    {
      "cell_type": "markdown",
      "source": [
        "###11.6 ¿Cuáles elementos pueden participar en los enlaces de hidrógeno? ¿Por qué el hidrógeno es único en este tipo de interacción?"
      ],
      "metadata": {
        "id": "rxry-2_jKJXS"
      }
    },
    {
      "cell_type": "markdown",
      "source": [
        "Este tipo de enlace se forma en la conexión entre el hidrógeno y elementos como nitrógeno, oxígeno o flúor debido a su elevada electronegatividad. Este enlace es especial debido al reducido tamaño y la alta densidad de carga positiva del hidrógeno, lo que resulta en una marcada polaridad y la capacidad de establecer interacciones fuertes con átomos de elementos altamente electronegativos."
      ],
      "metadata": {
        "id": "W6QIj4P_KPug"
      }
    },
    {
      "cell_type": "markdown",
      "source": [
        "###11.4 Menciona algunas evidencias de que todos lo atomos y moleculas ejercen entre si fuerzas de atraccion."
      ],
      "metadata": {
        "id": "DRYFqDNEKamZ"
      }
    },
    {
      "cell_type": "markdown",
      "source": [
        "La Viscosidad, ya que es una evidencia fácilmente visible de la existencia de fuerzas intermoleculares, que pueden mantener unido al líquido, y cuya variación determina características como la capacidad de fluir en un líquido."
      ],
      "metadata": {
        "id": "X9NUMhkhKrVP"
      }
    },
    {
      "cell_type": "markdown",
      "source": [
        "#Propiedades de los líquidos"
      ],
      "metadata": {
        "id": "mMO7ellxLCbc"
      }
    },
    {
      "cell_type": "markdown",
      "source": [
        "###11.21 ¿Por qué los líquidos, a diferencia de los gases, son prácticamente incompresibles?"
      ],
      "metadata": {
        "id": "8GFSfWukLL_p"
      }
    },
    {
      "cell_type": "markdown",
      "source": [
        "\n",
        "Debido a las diferencias en la estructura y el comportamiento de sus partículas, se observa que en los gases, las fuerzas intermoleculares son extremadamente débiles, lo que resulta en una dispersión de las partículas y, en consecuencia, en una alta compresibilidad. Por otro lado, en los líquidos, las fuerzas intermoleculares son más fuertes, lo que mantiene a las partículas organizadas en una estructura más compacta, lo que limita la compresibilidad entre sus partículas."
      ],
      "metadata": {
        "id": "Kfkl5mwbLUv8"
      }
    },
    {
      "cell_type": "markdown",
      "source": [
        "###11.22 ¿Qué es la tensión superficial? ¿Qué relación existe entre esta propiedad y las fuerzas intermoleculares? ¿Cómo cambia la tensión superficial con la temperatura?"
      ],
      "metadata": {
        "id": "x5zfosjkLje3"
      }
    },
    {
      "cell_type": "markdown",
      "source": [
        "La tensión superficial se refiere a la tendencia de la superficie de los líquidos a comportarse como una película elástica debido a las fuerzas intermoleculares que actúan en la superficie, lo que da una apariencia de \"tensión\". Las fuerzas intermoleculares tiran hacia los lados o hacia el interior de la superficie. La tensión superficial disminuye con el aumento de la temperatura, ya que la mayor energía cinética de las moléculas disminuye la intensidad de las fuerzas intermoleculares, afectando así la tensión superficial.\n",
        "\n",
        "\n",
        "\n",
        "\n"
      ],
      "metadata": {
        "id": "hvJaS8UDLxQO"
      }
    },
    {
      "cell_type": "markdown",
      "source": [
        "###11.23  A pesar de que el acero inoxidable es mucho mas denso que el agua, una navaja de afeitar de acero inoxidable puede flotar en el agua. ¿Por que?"
      ],
      "metadata": {
        "id": "vtP9WiS9MeWa"
      }
    },
    {
      "cell_type": "markdown",
      "source": [
        "Debido a la tensión superficial; las moléculas del agua estan unidas mediante \"puentes de hidrógeno\", los cuales son enlaces fuertes; por lo que se necesita que el peso sea mayor a esta resistencia para poder hundirse; la navaja posee un peso muy pequeño y ademas tendría que superar la fuerza de tensión superficial de un área extensa en proporción al peso."
      ],
      "metadata": {
        "id": "iUnFhHWsMyVT"
      }
    },
    {
      "cell_type": "markdown",
      "source": [
        "###11.27 ¿Qué es la viscosidad? ¿Cuál es la relación entre las fuerzas intermoleculares y la viscosidad?"
      ],
      "metadata": {
        "id": "Cd3suYL-MAPW"
      }
    },
    {
      "cell_type": "markdown",
      "source": [
        "La viscosidad es la resitencia al flujo de un fluido y esta relacionada con las fuerzas intermoleculares ya que mientra tenga fuerzas intermoleculares mas intensas el fluido tiende a tener mas viscosidad."
      ],
      "metadata": {
        "id": "mEskrvKwMFbl"
      }
    },
    {
      "cell_type": "markdown",
      "source": [
        "#Soluciones"
      ],
      "metadata": {
        "id": "ClzLJT0yNLDh"
      }
    },
    {
      "cell_type": "markdown",
      "source": [
        "###12.3 Describa brevemente el proceso de disolucion a nivel molecular. Utilice como ejemplo la disolucion de un solido en un liquido.\n",
        "\n",
        "El procesos de disolucion implica la separacion y dispersion de particulas de un soluto. Por ejemplo la sal con el agua, las fuerzas intermoleculares del agua interactuan con la sal, rompiendo sus fuerzas intermoleculares de sal, rodeandola y dispersandolo por todo el liquido."
      ],
      "metadata": {
        "id": "ZhMhQTIeNZio"
      }
    },
    {
      "cell_type": "markdown",
      "source": [
        "###12.4 A partir de la fuerzas intermoleculares, epxlique el siguiente significado de \"lo semejante disuelve lo semejante\".\n",
        "Esto se refiere a que en quimica las sustancias con fuerzas intermoleculares similares tienden a disolverse entre si.Por ejemplo, las sustancias polares tienden a disolverse con sustancias polares, del mismo modo con las sustancias no polares.\n"
      ],
      "metadata": {
        "id": "VWW7ZtrgRFqd"
      }
    },
    {
      "cell_type": "markdown",
      "source": [
        "###12.10 Explique por qué el etanol (C2H5OH) no es soluble en ciclohexano (CH12).\n",
        "\n",
        "El etanol (C2H5OH) no es soluble en ciclohexano (C6H12) debido a sus diferencias de polaridad. El etanol es una molécula polar, mientras que el ciclohexano es no polar. Y para que dos moleculas sean solubles tienen que tener los dos las mismas propiedad de polaridad."
      ],
      "metadata": {
        "id": "3_IwtJcvQqGF"
      }
    },
    {
      "cell_type": "markdown",
      "source": [
        "###12.8 Describa los factores que afectan la solubilidad de un sólido en un líquido. ¿Qué significa decir que dos líquidos son miscibles?\n",
        "\n",
        "Naturaleza: Depende de la polaridad y estructura de soluto y disolvente, disolviendose polares con polares y no polares con no polares.\n",
        "\n",
        "Temperatura: Aumenta junto con la temperatura debido al aumento de la energía cinética.\n",
        "\n",
        "Dos líquidos son miscibles cuando pueden mezclarse en cualquier proporción y formar una solución homogénea, mientras que son inmiscibles cuando no se mezclan y forman capas separadas."
      ],
      "metadata": {
        "id": "tsYaNmveRAXR"
      }
    },
    {
      "cell_type": "markdown",
      "source": [
        "#Unidades de concentración"
      ],
      "metadata": {
        "id": "OtPntQjsScjP"
      }
    },
    {
      "cell_type": "markdown",
      "source": [
        "###12.11 Acomode los siguientes compuestos en orden creciente de solubilidad en agua: O2, LiCl, Br2, metanol (CH,OH).\n",
        "\n",
        "Br2 < O2 < CH3OH < LiCl"
      ],
      "metadata": {
        "id": "oX_CxlymXDbc"
      }
    },
    {
      "cell_type": "markdown",
      "source": [
        "###12.13 Defina los siguientes términos de concentración y espe- cifique sus unidades: \"porcentaje en masa\", \"fracción molar\", \"molaridad\" y \"molalidad\". Compare sus ventajas y sus desventajas.\n",
        "\n",
        "Porcentaje en masa: Masa del soluto en porcentaje respecto al peso total de la solución (%).\n",
        "\n",
        "Fracción molar: La cantidad de sustancia de un componente en relación con la cantidad total de sustancia en una solución (adimensional).\n",
        "\n",
        "Molaridad: Moles de soluto por litro de solución (mol/L).\n",
        "\n",
        "Molalidad: Moles de soluto por kilogramo de disolvente (mol/kg).\n",
        "\n",
        "Cada método de expresar la concentración tiene sus propias ventajas y desventajas, y se selecciona según la situación y la propiedad que se desea destacar, ya sea la masa, la cantidad de sustancia, el volumen o el peso del disolvente. El porcentaje en masa es sencillo pero tiene sus limitaciones. La fracción molar se emplea en cálculos más avanzados. La molaridad resulta útil en reacciones químicas, mientras que la molalidad es particularmente adecuada para trabajar a diferentes temperaturas y se ve menos influenciada por los cambios de temperatura."
      ],
      "metadata": {
        "id": "ukA8yKA_XJfw"
      }
    },
    {
      "cell_type": "markdown",
      "source": [
        "###12.15 Calcule el porcentaje en masa de soluto en cada una de las siguientes soluciones acuosas:\n",
        "a) 5.50g de NaBr en 78.2g de disolución  \n",
        "b) 31.0g de KCl en 152g de agua            \n",
        "c) 4.5g de tolueno en 29g de benceno"
      ],
      "metadata": {
        "id": "ProC7sUDXrOR"
      }
    },
    {
      "cell_type": "code",
      "source": [
        "#a\n",
        "masa_soluto = 5.5\n",
        "masa_solucion = 78.2\n",
        "p_masa = (masa_soluto/masa_solucion)*100\n",
        "print(f\"En a el pocentaje en masa es: {round(p_masa,2)}%\")\n",
        "#b\n",
        "masa_soluto = 31\n",
        "masa_solucion = 152+31\n",
        "p_masa = (masa_soluto/masa_solucion)*100\n",
        "print(f\"En b el pocentaje en masa es: {round(p_masa,2)}%\")\n",
        "#c\n",
        "masa_soluto = 4.5\n",
        "masa_solucion = 4.5 + 29\n",
        "p_masa = (masa_soluto/masa_solucion)*100\n",
        "print(f\"En c el pocentaje en masa es: {round(p_masa,2)}%\")"
      ],
      "metadata": {
        "colab": {
          "base_uri": "https://localhost:8080/"
        },
        "id": "KVnI-BICLNz6",
        "outputId": "c694e71a-a585-4a4d-e10a-b403dc9c6d28"
      },
      "execution_count": 2,
      "outputs": [
        {
          "output_type": "stream",
          "name": "stdout",
          "text": [
            "En a el pocentaje en masa es: 7.03%\n",
            "En b el pocentaje en masa es: 16.94%\n",
            "En c el pocentaje en masa es: 13.43%\n"
          ]
        }
      ]
    },
    {
      "cell_type": "markdown",
      "source": [
        "### 12.22 El ácido sulfúrico concentrado que se utiliza en el laboratorio es H2SO4 al 98.0% en masa. Calcule la molalidad y la molaridad de la disolución ácida. La densidad de la disolución es de 1.83g/mL"
      ],
      "metadata": {
        "id": "lGVqhvYTYyuJ"
      }
    },
    {
      "cell_type": "code",
      "source": [
        "#Por Porcentaje de Masa 98%\n",
        "m_total = 1830 #1.83Kg\n",
        "m_soluto = 1830*0.98 #en g\n",
        "m_solvente = 1830*0.2/1000 #en Kg\n",
        "mm_soluto = 98.079\n",
        "nm_soluto = m_soluto / mm_soluto\n",
        "#Por Densidad     1.83g/mL: 1.83Kg --> 1L\n",
        "volumen = 1\n",
        "\n",
        "molalidad = nm_soluto/m_solvente\n",
        "molaridad = nm_soluto/volumen\n",
        "print(f\"Su molalidad es: {round(molalidad,2)}.\")\n",
        "print(f\"Su molaridad es: {round(molaridad,2)}.\")"
      ],
      "metadata": {
        "colab": {
          "base_uri": "https://localhost:8080/"
        },
        "id": "xGrP5j12Y18E",
        "outputId": "27b18cd5-9722-46cf-f7f4-830423af5a7c"
      },
      "execution_count": 3,
      "outputs": [
        {
          "output_type": "stream",
          "name": "stdout",
          "text": [
            "Su molalidad es: 49.96.\n",
            "Su molaridad es: 18.29.\n"
          ]
        }
      ]
    },
    {
      "cell_type": "markdown",
      "source": [
        "###Calcule la molalidad de cada una de las siguientes disoluciones acuosa:\n",
        "a)Disolución de NaCl 2.50 M (densidad de la disolución = 1.08 g/mL)\n",
        "\n",
        "b)Disolución de KBr al 48.2% en masa\n",
        "\n"
      ],
      "metadata": {
        "id": "qCWayEMbZXaN"
      }
    },
    {
      "cell_type": "code",
      "source": [
        "#a\n",
        "# molaridad = 2.5 M   --> 2.5 mol en 1 L\n",
        "# densidad = 1.08/mL --> 1.08 Kg en 1 L\n",
        "mm_soluto = 58.44\n",
        "nm_soluto = 2.5\n",
        "g_soluto = mm_soluto * nm_soluto\n",
        "m_solvente = (1080 - g_soluto)/1000\n",
        "molalidad = nm_soluto/m_solvente\n",
        "print(f\"En a la Molalidad es : {round(molalidad,2)}\")\n",
        "#b\n",
        "mm_soluto = 119.002\n",
        "g_soluto = 48.2\n",
        "nm_soluto = g_soluto/mm_soluto\n",
        "m_solvente = (51.8)/1000\n",
        "molalidad = nm_soluto/m_solvente\n",
        "print(f\"En b la Molalidad es : {round(molalidad,2)}\")"
      ],
      "metadata": {
        "colab": {
          "base_uri": "https://localhost:8080/"
        },
        "id": "etHI25dJZeZT",
        "outputId": "628ee301-eb5f-46ea-bb1a-c9b8ddf8dff7"
      },
      "execution_count": 5,
      "outputs": [
        {
          "output_type": "stream",
          "name": "stdout",
          "text": [
            "En a la Molalidad es : 2.68\n",
            "En b la Molalidad es : 7.82\n"
          ]
        }
      ]
    },
    {
      "cell_type": "markdown",
      "source": [
        "###Calcule la molalidad de cada una de las siguientes disoluciones acuosas:\n",
        "\n",
        "\n",
        "\n",
        "*   a) Disolución de azúcar (C12H22O11) 1.22 M (densidad de la disolución = 1.12g/mL)\n",
        "*   b) Disolución de NaOH 0.87 M (densidad de la disolución = 1.04g/mL)\n",
        "*   c) Disolución de NaHCO3 5.24 M (densidad de la disolución = 1.19g/mL)\n",
        "\n"
      ],
      "metadata": {
        "id": "thy2fsgNZw6v"
      }
    },
    {
      "cell_type": "code",
      "source": [
        "#a\n",
        "# molaridad = 1.22 M   --> 1.22 mol  en  1 L\n",
        "# densidad = 1.12g/mL -->  1120 g    en  1 L\n",
        "mm_soluto = 342.3\n",
        "nm_soluto = 1.22\n",
        "g_soluto = mm_soluto * nm_soluto\n",
        "m_solvente = (1120 - g_soluto)/1000\n",
        "molalidad = nm_soluto/m_solvente\n",
        "print(f\"En a la Molalidad es : {round(molalidad,2)}\")\n",
        "#b\n",
        "# molaridad = 0.87 M   --> 0.87 mol  en  1 L\n",
        "# densidad = 1.04g/mL -->  1040 g    en  1 L\n",
        "mm_soluto = 39.997\n",
        "nm_soluto = 0.87\n",
        "g_soluto = mm_soluto * nm_soluto\n",
        "m_solvente = (1040 - g_soluto)/1000\n",
        "molalidad = nm_soluto/m_solvente\n",
        "print(f\"En b la Molalidad es : {round(molalidad,2)}\")\n",
        "#c\n",
        "# molaridad = 5.24 M   --> 5.24 mol  en  1 L\n",
        "# densidad = 1.19g/mL -->  1190 g    en  1 L\n",
        "mm_soluto = 84.01\n",
        "nm_soluto = 5.24\n",
        "g_soluto = mm_soluto * nm_soluto\n",
        "m_solvente = (1190 - g_soluto)/1000\n",
        "molalidad = nm_soluto/m_solvente\n",
        "print(f\"En c la Molalidad es : {round(molalidad,2)}\")"
      ],
      "metadata": {
        "colab": {
          "base_uri": "https://localhost:8080/"
        },
        "id": "7dFLYEEEZy-R",
        "outputId": "2497fba5-2968-4617-c10e-e2b92f9764d3"
      },
      "execution_count": 7,
      "outputs": [
        {
          "output_type": "stream",
          "name": "stdout",
          "text": [
            "En a la Molalidad es : 1.74\n",
            "En b la Molalidad es : 0.87\n",
            "En c la Molalidad es : 6.99\n"
          ]
        }
      ]
    },
    {
      "cell_type": "markdown",
      "source": [
        "#Efecto de la temperatura en la solubilidad\n",
        "1.Una muestra de 3.20g de una sal se disuelve en 9.10g de agua para formar una disolución saturada a 25°C.¿Cuál es la solubilidad (en g de sal/100 g de H2O) de la sal?"
      ],
      "metadata": {
        "id": "NbQ2LHhLaZgY"
      }
    },
    {
      "cell_type": "code",
      "source": [
        "g_soluto = 3.2\n",
        "g_solvente = 9.1\n",
        "solubilidad = (g_soluto*100)/g_solvente\n",
        "print(f\"La solubilidad es {round(solubilidad,2)} g de sal/100g.\")"
      ],
      "metadata": {
        "colab": {
          "base_uri": "https://localhost:8080/"
        },
        "id": "UkNtH6-HaSVr",
        "outputId": "9eec45a7-5334-4b7b-c2c1-08c53a360abe"
      },
      "execution_count": 8,
      "outputs": [
        {
          "output_type": "stream",
          "name": "stdout",
          "text": [
            "La solubilidad es 35.16 g de sal/100g.\n"
          ]
        }
      ]
    }
  ]
}