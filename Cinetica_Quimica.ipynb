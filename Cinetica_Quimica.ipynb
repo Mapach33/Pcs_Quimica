{
  "cells": [
    {
      "cell_type": "markdown",
      "metadata": {
        "id": "view-in-github",
        "colab_type": "text"
      },
      "source": [
        "<a href=\"https://colab.research.google.com/github/Mapach33/Pcs_Quimica/blob/main/Cinetica_Quimica.ipynb\" target=\"_parent\"><img src=\"https://colab.research.google.com/assets/colab-badge.svg\" alt=\"Open In Colab\"/></a>"
      ]
    },
    {
      "cell_type": "markdown",
      "source": [
        "https://github.com/aymericdamien/TensorFlow-Examples/\n"
      ],
      "metadata": {
        "id": "t-R3Ou3xoyXL"
      }
    },
    {
      "cell_type": "markdown",
      "source": [
        "https://dontpad.com/transition_state\n",
        "\n",
        "\n"
      ],
      "metadata": {
        "id": "Mryk2_n2nrKj"
      }
    },
    {
      "cell_type": "code",
      "source": [
        "! pip install rdkit\n",
        "! pip install pyscf\n"
      ],
      "metadata": {
        "id": "R9unNd5IcDMw"
      },
      "execution_count": null,
      "outputs": []
    },
    {
      "cell_type": "markdown",
      "source": [
        "# Creating structures from SMILES\n",
        "\n",
        "Molecules can be represented as strings with SMILES. Simplified molecular-input line-entry system (SMILES) is a string based representation of a molecule. (https://en.wikipedia.org/wiki/Simplified_molecular-input_line-entry_system) For example n-butane is represented as CCCC. Interactive RDKit demo for SMILES is available at https://rdkit.org/temp/demo/demo.html\n",
        "\n",
        "If you want to draw a 2D structure of molecule and obtain the SMILES representation, use this link https://pubchem.ncbi.nlm.nih.gov//edit3/index.html"
      ],
      "metadata": {
        "id": "2AkW1rX44DyO"
      }
    },
    {
      "cell_type": "code",
      "source": [
        "# import these definitions\n",
        "from rdkit import Chem\n",
        "from rdkit.Chem import Draw\n",
        "from rdkit.Chem import AllChem\n",
        "from rdkit.Chem.Draw import IPythonConsole\n",
        "IPythonConsole.drawOptions.addAtomIndices = True"
      ],
      "metadata": {
        "id": "wwFIHzDR5MYW"
      },
      "execution_count": null,
      "outputs": []
    },
    {
      "cell_type": "markdown",
      "source": [
        "Let us see how to visualize the 2D structure of toluene using SMILES"
      ],
      "metadata": {
        "id": "XFNzVKcw5fP6"
      }
    },
    {
      "cell_type": "code",
      "source": [
        "# set SMILES for toluene\n",
        "smiles_sisButeno = \"F\\C=C/C\"\n",
        "smiles_Trans = \"F/C=C/C\"\n",
        "\n",
        "# Convert to RDKit molecule\n",
        "mol_sis = Chem.MolFromSmiles(smiles_sisButeno)\n",
        "mol_trans = Chem.MolFromSmiles(smiles_Trans)\n",
        "\n",
        "# Draw the strucutre\n",
        "Draw.MolsToGridImage([mol_sis,mol_trans])\n",
        "#Draw.MolsToGridImage([mol_trans])"
      ],
      "metadata": {
        "id": "ybYDoyie5Tl1",
        "colab": {
          "base_uri": "https://localhost:8080/",
          "height": 217
        },
        "outputId": "72e22119-ace7-470d-94e2-10e5d43e0bf7"
      },
      "execution_count": null,
      "outputs": [
        {
          "output_type": "execute_result",
          "data": {
            "image/png": "[encoded data removed]",
            "text/plain": [
              "<IPython.core.display.Image object>"
            ]
          },
          "metadata": {},
          "execution_count": 73
        }
      ]
    },
    {
      "cell_type": "code",
      "source": [
        "\n",
        "# Add hydrogens\n",
        "mol_h_sis = Chem.AddHs(mol_sis)\n",
        "mol_h_trans = Chem.AddHs(mol_trans)\n",
        "\n",
        "# Display both structures\n",
        "Draw.MolsToGridImage([mol_h_sis,mol_h_trans], subImgSize=(300,300))\n",
        "\n"
      ],
      "metadata": {
        "colab": {
          "base_uri": "https://localhost:8080/",
          "height": 317
        },
        "id": "Lm2F2vMOZX_2",
        "outputId": "c5f75bcb-1c05-4faf-8299-503260a33a08"
      },
      "execution_count": null,
      "outputs": [
        {
          "output_type": "execute_result",
          "data": {
            "image/png": "[encoded data removed]",
            "text/plain": [
              "<IPython.core.display.Image object>"
            ]
          },
          "metadata": {},
          "execution_count": 74
        }
      ]
    },
    {
      "cell_type": "markdown",
      "source": [
        "The structure generated has implicit hydrogen atoms. We will need explicit hydrogen atoms to generate the input structure"
      ],
      "metadata": {
        "id": "5_64bBbB_Upl"
      }
    },
    {
      "cell_type": "code",
      "source": [
        "# The current molecule has z = 0 for all atoms\n",
        "# This is a 2D molecule\n",
        "print(Chem.MolToMolBlock(mol_h_trans))\n",
        "print(Chem.MolToMolBlock(mol_h_sis))"
      ],
      "metadata": {
        "id": "Di0gIFMEAtdr",
        "colab": {
          "base_uri": "https://localhost:8080/"
        },
        "outputId": "9a51a1ce-2cc6-4e4b-ad39-96b0a623f3f6"
      },
      "execution_count": null,
      "outputs": [
        {
          "output_type": "stream",
          "name": "stdout",
          "text": [
            "\n",
            "     RDKit          2D\n",
            "\n",
            "  9  8  0  0  0  0  0  0  0  0999 V2000\n",
            "   -0.7500   -1.2990    0.0000 F   0  0  0  0  0  0  0  0  0  0  0  0\n",
            "    0.0000    0.0000    0.0000 C   0  0  0  0  0  0  0  0  0  0  0  0\n",
            "    1.5000    0.0000    0.0000 C   0  0  0  0  0  0  0  0  0  0  0  0\n",
            "    2.2500    1.2990    0.0000 C   0  0  0  0  0  0  0  0  0  0  0  0\n",
            "   -0.7500    1.2990    0.0000 H   0  0  0  0  0  0  0  0  0  0  0  0\n",
            "    2.2500   -1.2990    0.0000 H   0  0  0  0  0  0  0  0  0  0  0  0\n",
            "    3.0000    2.5981    0.0000 H   0  0  0  0  0  0  0  0  0  0  0  0\n",
            "    3.5490    0.5490    0.0000 H   0  0  0  0  0  0  0  0  0  0  0  0\n",
            "    0.9510    2.0490    0.0000 H   0  0  0  0  0  0  0  0  0  0  0  0\n",
            "  1  2  1  0\n",
            "  2  3  2  0\n",
            "  3  4  1  0\n",
            "  2  5  1  0\n",
            "  3  6  1  0\n",
            "  4  7  1  0\n",
            "  4  8  1  0\n",
            "  4  9  1  0\n",
            "M  END\n",
            "\n",
            "\n",
            "     RDKit          2D\n",
            "\n",
            "  9  8  0  0  0  0  0  0  0  0999 V2000\n",
            "   -0.7500   -1.2990    0.0000 F   0  0  0  0  0  0  0  0  0  0  0  0\n",
            "    0.0000    0.0000    0.0000 C   0  0  0  0  0  0  0  0  0  0  0  0\n",
            "    1.5000    0.0000    0.0000 C   0  0  0  0  0  0  0  0  0  0  0  0\n",
            "    2.2500   -1.2990    0.0000 C   0  0  0  0  0  0  0  0  0  0  0  0\n",
            "   -0.7500    1.2990    0.0000 H   0  0  0  0  0  0  0  0  0  0  0  0\n",
            "    2.2500    1.2990    0.0000 H   0  0  0  0  0  0  0  0  0  0  0  0\n",
            "    3.0000   -2.5981    0.0000 H   0  0  0  0  0  0  0  0  0  0  0  0\n",
            "    3.5490   -0.5490    0.0000 H   0  0  0  0  0  0  0  0  0  0  0  0\n",
            "    0.9510   -2.0490    0.0000 H   0  0  0  0  0  0  0  0  0  0  0  0\n",
            "  1  2  1  0\n",
            "  2  3  2  0\n",
            "  3  4  1  0\n",
            "  2  5  1  0\n",
            "  3  6  1  0\n",
            "  4  7  1  0\n",
            "  4  8  1  0\n",
            "  4  9  1  0\n",
            "M  END\n",
            "\n"
          ]
        }
      ]
    },
    {
      "cell_type": "code",
      "source": [
        "# Let us make it 3D by generating a random conformer\n",
        "Chem.AllChem.EmbedMolecule(mol_h_trans)\n",
        "Chem.AllChem.EmbedMolecule(mol_h_sis)\n",
        "\n",
        "# look at the molecule again\n",
        "print(Chem.MolToMolBlock(mol_h_sis))\n",
        "print(Chem.MolToMolBlock(mol_h_trans))"
      ],
      "metadata": {
        "id": "q4H5lSAjAcyE",
        "colab": {
          "base_uri": "https://localhost:8080/"
        },
        "outputId": "dde4bb4b-2a41-42e6-ceba-ca6d61f17a4e"
      },
      "execution_count": null,
      "outputs": [
        {
          "output_type": "stream",
          "name": "stdout",
          "text": [
            "\n",
            "     RDKit          3D\n",
            "\n",
            "  9  8  0  0  0  0  0  0  0  0999 V2000\n",
            "    1.1563    1.5089    0.5630 F   0  0  0  0  0  0  0  0  0  0  0  0\n",
            "    1.2793    0.2655    0.0324 C   0  0  0  0  0  0  0  0  0  0  0  0\n",
            "    0.2531   -0.5246   -0.2439 C   0  0  0  0  0  0  0  0  0  0  0  0\n",
            "   -1.0998   -0.0070    0.0488 C   0  0  0  0  0  0  0  0  0  0  0  0\n",
            "    2.2881   -0.0949   -0.1750 H   0  0  0  0  0  0  0  0  0  0  0  0\n",
            "    0.4144   -1.5112   -0.6684 H   0  0  0  0  0  0  0  0  0  0  0  0\n",
            "   -1.2118    0.9967   -0.4167 H   0  0  0  0  0  0  0  0  0  0  0  0\n",
            "   -1.8771   -0.7108   -0.3044 H   0  0  0  0  0  0  0  0  0  0  0  0\n",
            "   -1.2025    0.0773    1.1642 H   0  0  0  0  0  0  0  0  0  0  0  0\n",
            "  1  2  1  0\n",
            "  2  3  2  0\n",
            "  3  4  1  0\n",
            "  2  5  1  0\n",
            "  3  6  1  0\n",
            "  4  7  1  0\n",
            "  4  8  1  0\n",
            "  4  9  1  0\n",
            "M  END\n",
            "\n",
            "\n",
            "     RDKit          3D\n",
            "\n",
            "  9  8  0  0  0  0  0  0  0  0999 V2000\n",
            "    2.5434    0.1059    0.0368 F   0  0  0  0  0  0  0  0  0  0  0  0\n",
            "    1.2801   -0.3612    0.0499 C   0  0  0  0  0  0  0  0  0  0  0  0\n",
            "    0.2586    0.4675   -0.0388 C   0  0  0  0  0  0  0  0  0  0  0  0\n",
            "   -1.1657   -0.0225   -0.0270 C   0  0  0  0  0  0  0  0  0  0  0  0\n",
            "    1.1035   -1.4160    0.1331 H   0  0  0  0  0  0  0  0  0  0  0  0\n",
            "    0.4150    1.5562   -0.1252 H   0  0  0  0  0  0  0  0  0  0  0  0\n",
            "   -1.2094   -1.0450    0.3692 H   0  0  0  0  0  0  0  0  0  0  0  0\n",
            "   -1.5248    0.0648   -1.0731 H   0  0  0  0  0  0  0  0  0  0  0  0\n",
            "   -1.7007    0.6503    0.6751 H   0  0  0  0  0  0  0  0  0  0  0  0\n",
            "  1  2  1  0\n",
            "  2  3  2  0\n",
            "  3  4  1  0\n",
            "  2  5  1  0\n",
            "  3  6  1  0\n",
            "  4  7  1  0\n",
            "  4  8  1  0\n",
            "  4  9  1  0\n",
            "M  END\n",
            "\n"
          ]
        }
      ]
    },
    {
      "cell_type": "code",
      "source": [
        "# Save the molecule in XYZ format for future use\n",
        "Chem.MolToXYZFile(mol_h_sis,\"sis.xyz\")\n",
        "Chem.MolToXYZFile(mol_h_trans,\"trans.xyz\")"
      ],
      "metadata": {
        "id": "N2zjRU2aB0PV"
      },
      "execution_count": null,
      "outputs": []
    },
    {
      "cell_type": "markdown",
      "source": [
        "Conformer generation is an active area of research.\n",
        "\n",
        "1.   https://www.rdkit.org/UGM/2012/Ebejer_20110926_RDKit_1stUGM.pdf\n",
        "2.   https://pubs.acs.org/doi/10.1021/acs.jcim.0c00025"
      ],
      "metadata": {
        "id": "BXDXbTKrn0dw"
      }
    },
    {
      "cell_type": "markdown",
      "source": [
        "# Manipulating the 3D structure\n",
        "\n",
        "As we saw earlier the 3D conformer is randonly generated. But we want to modify the structure before starting any quantum chemistry calculations. Wrong structures or incorrect geometries lead to bad estimates.\n",
        "\n",
        "For demonstration we will use biphenyl and change the angle between two benzene rings."
      ],
      "metadata": {
        "id": "mCwHxVhnC-or"
      }
    },
    {
      "cell_type": "markdown",
      "source": [
        "To enable numbering of atoms, set the draw options"
      ],
      "metadata": {
        "id": "yWDPb4Ih6nTG"
      }
    },
    {
      "cell_type": "code",
      "source": [
        "# create the 3D structure of cis\n",
        "mol_h_sis"
      ],
      "metadata": {
        "id": "1eWSYylmFEES",
        "colab": {
          "base_uri": "https://localhost:8080/",
          "height": 167
        },
        "outputId": "5a6f6969-bde2-4bff-ee75-ab9c0860fc7c"
      },
      "execution_count": null,
      "outputs": [
        {
          "output_type": "execute_result",
          "data": {
            "text/plain": [
              "<rdkit.Chem.rdchem.Mol at 0x7caae44c0d60>"
            ],
            "image/png": "[encoded data removed]"
          },
          "metadata": {},
          "execution_count": 78
        }
      ]
    },
    {
      "cell_type": "code",
      "source": [
        "mol_h_trans"
      ],
      "metadata": {
        "colab": {
          "base_uri": "https://localhost:8080/",
          "height": 167
        },
        "id": "cy568XRmkk7R",
        "outputId": "d00ab61f-b98c-488f-e14c-915e651d6cb3"
      },
      "execution_count": null,
      "outputs": [
        {
          "output_type": "execute_result",
          "data": {
            "text/plain": [
              "<rdkit.Chem.rdchem.Mol at 0x7caae44c0eb0>"
            ],
            "image/png": "[encoded data removed]"
          },
          "metadata": {},
          "execution_count": 79
        }
      ]
    },
    {
      "cell_type": "code",
      "source": [
        "# set the value to 90 for the conformer\n",
        "Chem.AllChem.SetDihedralDeg(mol_h_sis.GetConformer(0),3,2,1,0,90.0)\n",
        "\n",
        "# save the new conformer\n",
        "Chem.MolToXYZFile(mol_h_sis, \"moltrs.xyz\")\n",
        "\n",
        "# Looks like it is set to 90\n",
        "mol_h_sis"
      ],
      "metadata": {
        "id": "A2JlamE1HvLj",
        "colab": {
          "base_uri": "https://localhost:8080/",
          "height": 167
        },
        "outputId": "8d629d4b-08d7-4057-8bf6-f38fd39243a5"
      },
      "execution_count": null,
      "outputs": [
        {
          "output_type": "execute_result",
          "data": {
            "text/plain": [
              "<rdkit.Chem.rdchem.Mol at 0x7caae44c0d60>"
            ],
            "image/png": "[encoded data removed]"
          },
          "metadata": {},
          "execution_count": 80
        }
      ]
    },
    {
      "cell_type": "code",
      "source": [
        "#Crea una lista con diferentes diedros\n",
        "diedros = [0, 30, 60, 90, 120, 150, 180, 210, 240, 270, 300, 330]\n",
        "mol_lista = []\n",
        "for i in diedros:\n",
        "  Chem.AllChem.SetDihedralDeg(mol.GetConformer(0),4,3,6,11,i)\n",
        "  #mol_lista.append(mol)\n",
        "  Chem.MolToXYZFile(mol, f\"{i}.xyz\")"
      ],
      "metadata": {
        "id": "X7lhSekq9Lgn"
      },
      "execution_count": null,
      "outputs": []
    },
    {
      "cell_type": "markdown",
      "source": [
        "## Exercise\n",
        "\n",
        "Generate the 3D structure of cis-butene and trans butene."
      ],
      "metadata": {
        "id": "vG-guGkAKU3s"
      }
    },
    {
      "cell_type": "code",
      "source": [
        "smiles = \"F/C=C/C\"\n",
        "#F/C(Br)=C(/Cl)I\n",
        "\n",
        "mol = Chem.MolFromSmiles(smiles)\n",
        "mol"
      ],
      "metadata": {
        "colab": {
          "base_uri": "https://localhost:8080/",
          "height": 167
        },
        "id": "nomWYZgXMmn2",
        "outputId": "746c1fd7-02fa-4235-b4f6-4cc309aad3e3"
      },
      "execution_count": null,
      "outputs": [
        {
          "output_type": "execute_result",
          "data": {
            "text/plain": [
              "<rdkit.Chem.rdchem.Mol at 0x7bcbf4802030>"
            ],
            "image/png": "[encoded data removed]"
          },
          "metadata": {},
          "execution_count": 13
        }
      ]
    },
    {
      "cell_type": "markdown",
      "source": [
        "\\"
      ],
      "metadata": {
        "id": "4EKFsCuzrAYw"
      }
    },
    {
      "cell_type": "code",
      "source": [
        "smiles = \"F\\C=C/C\"\n",
        "mol = Chem.MolFromSmiles(smiles)\n",
        "mol"
      ],
      "metadata": {
        "id": "ZCi1iTNxMugx",
        "colab": {
          "base_uri": "https://localhost:8080/",
          "height": 167
        },
        "outputId": "e9108eec-df50-4001-99ab-b2ed58b3a32d"
      },
      "execution_count": null,
      "outputs": [
        {
          "output_type": "execute_result",
          "data": {
            "text/plain": [
              "<rdkit.Chem.rdchem.Mol at 0x7bcbf4801ee0>"
            ],
            "image/png": "[encoded data removed]"
          },
          "metadata": {},
          "execution_count": 14
        }
      ]
    },
    {
      "cell_type": "markdown",
      "source": [
        "# Combinatorial genration\n",
        "\n",
        "To study the effect of functional group substitution, we need to create a library of molecules replaing the functional group. We can do that with combinatorial method. We will consider benzene core and some functional groups"
      ],
      "metadata": {
        "id": "XdUL9ji9M9sH"
      }
    },
    {
      "cell_type": "code",
      "source": [
        "# generate the core molcule\n",
        "core = Chem.MolFromSmiles('*c1ccccc1')\n",
        "core"
      ],
      "metadata": {
        "id": "vTLo-aZGNUWf",
        "colab": {
          "base_uri": "https://localhost:8080/",
          "height": 167
        },
        "outputId": "38b00eb0-7b03-43a3-d784-c426cb376ffd"
      },
      "execution_count": null,
      "outputs": [
        {
          "output_type": "execute_result",
          "data": {
            "text/plain": [
              "<rdkit.Chem.rdchem.Mol at 0x7bcbf4801f50>"
            ],
            "image/png": "[encoded data removed]"
          },
          "metadata": {},
          "execution_count": 15
        }
      ]
    },
    {
      "cell_type": "code",
      "source": [
        "# For simplicity let's use one functional group\n",
        "functional_group = \"F\"\n",
        "functional_mol = Chem.MolFromSmiles(functional_group)\n",
        "functional_mol"
      ],
      "metadata": {
        "id": "U43ndaeAOZmd",
        "colab": {
          "base_uri": "https://localhost:8080/",
          "height": 167
        },
        "outputId": "26bd614b-b612-4c78-f98c-57d93bfd2e10"
      },
      "execution_count": null,
      "outputs": [
        {
          "output_type": "execute_result",
          "data": {
            "text/plain": [
              "<rdkit.Chem.rdchem.Mol at 0x7bcbf4802340>"
            ],
            "image/png": "[encoded data removed]"
          },
          "metadata": {},
          "execution_count": 16
        }
      ]
    },
    {
      "cell_type": "code",
      "source": [
        "# generate the combined molecule\n",
        "product = Chem.ReplaceSubstructs(core,Chem.MolFromSmarts('[#0]'),functional_mol)\n",
        "new_smiles = Chem.MolToSmiles(product[0])\n",
        "new_mol = Chem.MolFromSmiles(new_smiles)\n",
        "\n",
        "# Draw the new molecule\n",
        "Draw.MolsToGridImage([new_mol])"
      ],
      "metadata": {
        "id": "8AimWgpnOphf",
        "colab": {
          "base_uri": "https://localhost:8080/",
          "height": 217
        },
        "outputId": "00008a5d-b9c4-433c-9e45-340a17c0d14b"
      },
      "execution_count": null,
      "outputs": [
        {
          "output_type": "execute_result",
          "data": {
            "image/png": "[encoded data removed]",
            "text/plain": [
              "<IPython.core.display.Image object>"
            ]
          },
          "metadata": {},
          "execution_count": 17
        }
      ]
    },
    {
      "cell_type": "markdown",
      "source": [
        "Now do it for multiple functional groups"
      ],
      "metadata": {
        "id": "oAB4c29BPsnv"
      }
    },
    {
      "cell_type": "code",
      "source": [
        "# create a list of functional groups\n",
        "functional_groups = ['F','Cl','C','c1ccccc1Cl']\n",
        "functional_mols = [Chem.MolFromSmiles(group) for group in functional_groups]\n",
        "\n",
        "# Draw the groups\n",
        "Draw.MolsToGridImage(functional_mols)"
      ],
      "metadata": {
        "id": "AKxQCFOPNwbo",
        "colab": {
          "base_uri": "https://localhost:8080/",
          "height": 417
        },
        "outputId": "55cbf134-80a1-44b6-d096-f3aae6a80820"
      },
      "execution_count": null,
      "outputs": [
        {
          "output_type": "execute_result",
          "data": {
            "image/png": "[encoded data removed]",
            "text/plain": [
              "<IPython.core.display.Image object>"
            ]
          },
          "metadata": {},
          "execution_count": 18
        }
      ]
    },
    {
      "cell_type": "code",
      "source": [
        "product_smi = []\n",
        "for functional_mol in functional_mols:\n",
        "    product_mol = Chem.ReplaceSubstructs(core,Chem.MolFromSmarts('[#0]'),functional_mol)\n",
        "    product_smi.append(Chem.MolToSmiles(product_mol[0]))\n",
        "Draw.MolsToGridImage([Chem.MolFromSmiles(smi) for smi in product_smi])\n"
      ],
      "metadata": {
        "id": "Bomy1jvAxBZh",
        "colab": {
          "base_uri": "https://localhost:8080/",
          "height": 417
        },
        "outputId": "a0471a00-f46e-4956-aa27-d0846733dc98"
      },
      "execution_count": null,
      "outputs": [
        {
          "output_type": "execute_result",
          "data": {
            "image/png": "[encoded data removed]",
            "text/plain": [
              "<IPython.core.display.Image object>"
            ]
          },
          "metadata": {},
          "execution_count": 19
        }
      ]
    },
    {
      "cell_type": "markdown",
      "source": [
        "# PySCF\n",
        "\n",
        "El Marco de Simulaciones de Química basado en Python (PySCF) es una colección de módulos de estructura electrónica de código abierto impulsados por Python. El paquete proporciona una plataforma simple, ligera y eficiente para cálculos de química cuántica y desarrollo de metodología. PySCF se puede utilizar para simular las propiedades de moléculas, cristales y Hamiltonianos personalizados utilizando métodos de campo medio y poscampo medio. Para garantizar la facilidad de extensibilidad, casi todas las características en PySCF están implementadas en Python, mientras que las partes computacionalmente críticas están implementadas y optimizadas en C. Utilizando esta implementación combinada de Python/C, el paquete es tan eficiente como los mejores programas de química cuántica basados en C o Fortran existentes. Además de sus bibliotecas principales, PySCF admite un rico ecosistema de extensiones de instalación de PySCF."
      ],
      "metadata": {
        "id": "8A9lVPGA_C9i"
      }
    },
    {
      "cell_type": "markdown",
      "source": [
        "# Running DFT calculation\n",
        "\n",
        "We will use PySCF which is open-source software for running quantum chemistry calculations. You can find more details here - https://pyscf.org/\n",
        "\n",
        "More tutorials and example files for PySCF are available at https://github.com/pyscf/pyscf/tree/master/examples"
      ],
      "metadata": {
        "id": "a9rlFN2iQbwn"
      }
    },
    {
      "cell_type": "code",
      "source": [
        "# import the package\n",
        "from pyscf import gto, scf"
      ],
      "metadata": {
        "id": "v_tQ-CplQuh8"
      },
      "execution_count": null,
      "outputs": []
    },
    {
      "cell_type": "markdown",
      "source": [
        "We need a 3D structure input to PSI4. Then we set other parameters - DFT functional, basis set, charge. Details about the parametrs will be discussed in the next session."
      ],
      "metadata": {
        "id": "-S7rdE-GS0kj"
      }
    },
    {
      "cell_type": "code",
      "source": [
        "# reading the xyz into PSI4 - first open the file the pass it to PSI4\n",
        "mol = gto.M(atom=\"toluene.xyz\")"
      ],
      "metadata": {
        "id": "XLHj7d9ASxJ1"
      },
      "execution_count": null,
      "outputs": []
    },
    {
      "cell_type": "code",
      "source": [
        "# set basis set\n",
        "mol.basis = \"3-21G\"\n",
        "\n",
        "# set the functional\n",
        "mf = mol.KS()\n",
        "mf.xc = 'b3lyp'"
      ],
      "metadata": {
        "id": "l2pugEgceFbz",
        "colab": {
          "base_uri": "https://localhost:8080/"
        },
        "outputId": "5218c4ae-cf92-4818-e1a6-4098f3b12482"
      },
      "execution_count": null,
      "outputs": [
        {
          "output_type": "stream",
          "name": "stderr",
          "text": [
            "/usr/local/lib/python3.10/dist-packages/pyscf/dft/libxc.py:772: UserWarning: Since PySCF-2.3, B3LYP (and B3P86) are changed to the VWN-RPA variant, the same to the B3LYP functional in Gaussian and ORCA (issue 1480). To restore the VWN5 definition, you can put the setting \"B3LYP_WITH_VWN5 = True\" in pyscf_conf.py\n",
            "  warnings.warn('Since PySCF-2.3, B3LYP (and B3P86) are changed to the VWN-RPA variant, '\n"
          ]
        }
      ]
    },
    {
      "cell_type": "code",
      "source": [
        "# run calculation to get total energy\n",
        "mf.kernel()"
      ],
      "metadata": {
        "id": "A5kyHnvtTSQc",
        "colab": {
          "base_uri": "https://localhost:8080/"
        },
        "outputId": "0f27da0b-5a1c-4e54-d389-f98a68dc18b3"
      },
      "execution_count": null,
      "outputs": [
        {
          "output_type": "stream",
          "name": "stdout",
          "text": [
            "converged SCF energy = -268.249711620892\n"
          ]
        },
        {
          "output_type": "execute_result",
          "data": {
            "text/plain": [
              "-268.2497116208924"
            ]
          },
          "metadata": {},
          "execution_count": 23
        }
      ]
    },
    {
      "cell_type": "code",
      "source": [
        "resultados = [mf.kernel() ]\n",
        "\n",
        "mol = gto.M(atom=\"toluene.xyz\")\n",
        "mol.basis = \"3-21G\"\n",
        "mf = mol.KS()\n",
        "mf.xc = 'b3lyp'"
      ],
      "metadata": {
        "id": "K2b3FoOUW8HH"
      },
      "execution_count": null,
      "outputs": []
    },
    {
      "cell_type": "code",
      "source": [
        "i"
      ],
      "metadata": {
        "colab": {
          "base_uri": "https://localhost:8080/",
          "height": 36
        },
        "id": "24yAGPnRZFS1",
        "outputId": "7f0d9c08-4359-40be-82e1-dab796221dc3"
      },
      "execution_count": null,
      "outputs": [
        {
          "output_type": "execute_result",
          "data": {
            "text/plain": [
              "'0.xyz'"
            ],
            "application/vnd.google.colaboratory.intrinsic+json": {
              "type": "string"
            }
          },
          "metadata": {},
          "execution_count": 27
        }
      ]
    },
    {
      "cell_type": "markdown",
      "source": [
        "inicio: 01:22\n",
        "\n",
        "fin: 01:28"
      ],
      "metadata": {
        "id": "EIGpHah4add-"
      }
    },
    {
      "cell_type": "code",
      "source": [
        "#Crea una lista con diferentes diedros\n",
        "moleculas_diedros = [\"0.xyz\", \"30.xyz\", \"60.xyz\", \"90.xyz\", \"120.xyz\",\n",
        "                    \"150.xyz\", \"180.xyz\", \"240.xyz\", \"300.xyz\", \"330.xyz\"]\n",
        "diedros_lista = []\n",
        "for i in moleculas_diedros:\n",
        "  mol = gto.M(atom=i)\n",
        "  mol.basis = \"3-21G\"\n",
        "  mf = mol.KS()\n",
        "  mf.xc = 'b3lyp'\n",
        "  #mf.kernel()\n",
        "  diedros_lista.append(mf.kernel())"
      ],
      "metadata": {
        "colab": {
          "base_uri": "https://localhost:8080/"
        },
        "id": "d8u0O--qXUu4",
        "outputId": "0512601c-c433-4bcb-ea3b-a729a8df5cdc"
      },
      "execution_count": null,
      "outputs": [
        {
          "output_type": "stream",
          "name": "stdout",
          "text": [
            "converged SCF energy = -457.616472923339\n",
            "converged SCF energy = -457.619538758846\n",
            "converged SCF energy = -457.617354855824\n",
            "converged SCF energy = -457.614529341006\n",
            "converged SCF energy = -457.617292324795\n",
            "converged SCF energy = -457.619578855683\n",
            "converged SCF energy = -457.616602007663\n",
            "converged SCF energy = -457.617341845237\n",
            "converged SCF energy = -457.617311503817\n",
            "converged SCF energy = -457.619549994541\n"
          ]
        }
      ]
    },
    {
      "cell_type": "code",
      "source": [
        "diedros_lista"
      ],
      "metadata": {
        "colab": {
          "base_uri": "https://localhost:8080/"
        },
        "id": "amgqR0oDZYb-",
        "outputId": "bb50c928-d9e3-4cf9-b9a2-b3167a58fd26"
      },
      "execution_count": null,
      "outputs": [
        {
          "output_type": "execute_result",
          "data": {
            "text/plain": [
              "[-457.6164729233386,\n",
              " -457.6195387588457,\n",
              " -457.61735485582415,\n",
              " -457.614529341006,\n",
              " -457.6172923247947,\n",
              " -457.61957885568347,\n",
              " -457.616602007663,\n",
              " -457.6173418452373,\n",
              " -457.6173115038167,\n",
              " -457.619549994541]"
            ]
          },
          "metadata": {},
          "execution_count": 35
        }
      ]
    },
    {
      "cell_type": "code",
      "source": [
        "# Normalizaremos solo con fines de visualización\n",
        "min_y = min(diedros_lista)\n",
        "max_y = max(diedros_lista)\n",
        "diedros_lista_norm = [(valor - min_y) / (max_y - min_y) for valor in diedros_lista]"
      ],
      "metadata": {
        "id": "GphtNydkdbVX"
      },
      "execution_count": null,
      "outputs": []
    },
    {
      "cell_type": "code",
      "source": [
        "import matplotlib.pyplot as plt\n",
        "\n",
        "plt.bar(moleculas_diedros,diedros_lista_norm)\n",
        "plt.xlabel('Diedro')\n",
        "plt.ylabel('Variación de energía')\n",
        "plt.xticks(rotation=90)\n",
        "plt.title('Rotación de diedro vs Energía normalizada')\n",
        "plt.show()"
      ],
      "metadata": {
        "colab": {
          "base_uri": "https://localhost:8080/",
          "height": 513
        },
        "id": "i5iJElQ9Z0jI",
        "outputId": "f85f21b2-9e09-461e-a4c6-99dac33accac"
      },
      "execution_count": null,
      "outputs": [
        {
          "output_type": "display_data",
          "data": {
            "text/plain": [
              "<Figure size 640x480 with 1 Axes>"
            ],
            "image/png": "[encoded data removed]"
          },
          "metadata": {}
        }
      ]
    },
    {
      "cell_type": "markdown",
      "source": [
        "# Ejercicio\n",
        "\n",
        "Calcula la energía para cis-buteno y trans-buteno. Determina cual es más estable (valor más negativo de energía SCF)."
      ],
      "metadata": {
        "id": "J8lRV1wjkIs3"
      }
    }
  ],
  "metadata": {
    "colab": {
      "provenance": [],
      "include_colab_link": true
    },
    "kernelspec": {
      "display_name": "Python 3",
      "name": "python3"
    },
    "language_info": {
      "name": "python"
    }
  },
  "nbformat": 4,
  "nbformat_minor": 0
}